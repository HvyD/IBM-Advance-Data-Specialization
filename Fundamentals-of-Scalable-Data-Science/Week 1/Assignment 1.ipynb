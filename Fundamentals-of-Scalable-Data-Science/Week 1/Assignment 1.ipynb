{
    "nbformat_minor": 1, 
    "cells": [
        {
            "source": "# Welcome\nWelcome the the 1st course on coursera called \"A developer's guide to Exploratory Analysis of IoT Sensor Data\" which can be found here: https://www.coursera.org/teach/developer-iot-data-analyst-exploratory\n", 
            "cell_type": "markdown", 
            "metadata": {
                "collapsed": true
            }
        }, 
        {
            "source": "The intention of this template is to give a framework where the individual programming assignments can be implemented. This is the one for Week 1", 
            "cell_type": "markdown", 
            "metadata": {}
        }, 
        {
            "source": "# Question 1\nBelow you see some ApacheSpark code written in Python which will be picked up by the auto grader of coursera.org. You don't have to change code now, the only thing we want you to do is export this notebook as python code so that the grader can assess it. This is an exercice ment to make sure the submission process works on your side.\n\nPLEASE DON'T ADD ANY CODE OUTSIDE THE assignment1 FUNCTION", 
            "cell_type": "markdown", 
            "metadata": {}
        }, 
        {
            "source": "def assignment1(sc):\n    rdd = sc.parallelize(range(100))\n    return rdd.count()", 
            "cell_type": "code", 
            "metadata": {}, 
            "outputs": [], 
            "execution_count": 1
        }, 
        {
            "source": "### PLEASE DON'T REMOVE THIS BLOCK - THE FOLLOWING CODE IS NOT GRADED\n#axx\n### PLEASE DON'T REMOVE THIS BLOCK - THE FOLLOWING CODE IS NOT GRADED", 
            "cell_type": "code", 
            "metadata": {}, 
            "outputs": [], 
            "execution_count": 2
        }, 
        {
            "source": "print assignment1(sc)", 
            "cell_type": "code", 
            "metadata": {}, 
            "outputs": [
                {
                    "output_type": "stream", 
                    "name": "stdout", 
                    "text": "100\n"
                }
            ], 
            "execution_count": 3
        }, 
        {
            "source": "", 
            "cell_type": "code", 
            "metadata": {}, 
            "outputs": [], 
            "execution_count": null
        }, 
        {
            "source": "", 
            "cell_type": "code", 
            "metadata": {}, 
            "outputs": [], 
            "execution_count": null
        }
    ], 
    "metadata": {
        "kernelspec": {
            "display_name": "Python 2 with Spark 2.1", 
            "name": "python2-spark21", 
            "language": "python"
        }, 
        "language_info": {
            "mimetype": "text/x-python", 
            "nbconvert_exporter": "python", 
            "version": "2.7.14", 
            "name": "python", 
            "pygments_lexer": "ipython2", 
            "file_extension": ".py", 
            "codemirror_mode": {
                "version": 2, 
                "name": "ipython"
            }
        }
    }, 
    "nbformat": 4
}