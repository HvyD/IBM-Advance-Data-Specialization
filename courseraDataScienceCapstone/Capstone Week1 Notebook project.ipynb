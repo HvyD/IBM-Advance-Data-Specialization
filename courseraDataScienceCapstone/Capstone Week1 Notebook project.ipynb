{
 "cells": [
  {
   "cell_type": "markdown",
   "metadata": {},
   "source": [
    "# NoteBook Project\n",
    "\n",
    "### Create a new repository on your Github account and name it Coursera_Capstone. If you don't have a Github account yet, please create one and follow the instructions here: https://services.github.com/on-demand/intro-to-github/create-github-account.\n",
    "\n",
    "### Now, start a Jupyter Notebook using any platform that you are comfortable with and do the following:\n",
    "\n",
    "### Write some markdown to explain that this notebook will be mainly used for the capstone project.\n",
    "### Import the pandas library as pd.\n",
    "### Import the Numpy library as np.\n",
    "### Print the following the statement: Hello Capstone Project Course!\n",
    "### Push the Notebook to your Github repository and submit a link to the notebook on your Github repository."
   ]
  },
  {
   "cell_type": "code",
   "execution_count": 2,
   "metadata": {},
   "outputs": [],
   "source": [
    "import pandas as pd\n",
    "import numpy as np"
   ]
  },
  {
   "cell_type": "code",
   "execution_count": 3,
   "metadata": {},
   "outputs": [
    {
     "name": "stdout",
     "output_type": "stream",
     "text": [
      "Hello Capstone Project Course!\n"
     ]
    }
   ],
   "source": [
    "print(\"Hello Capstone Project Course!\")"
   ]
  },
  {
   "cell_type": "code",
   "execution_count": null,
   "metadata": {},
   "outputs": [],
   "source": []
  }
 ],
 "metadata": {
  "kernelspec": {
   "display_name": "Python 3",
   "language": "python",
   "name": "python3"
  },
  "language_info": {
   "codemirror_mode": {
    "name": "ipython",
    "version": 3
   },
   "file_extension": ".py",
   "mimetype": "text/x-python",
   "name": "python",
   "nbconvert_exporter": "python",
   "pygments_lexer": "ipython3",
   "version": "3.5.6"
  }
 },
 "nbformat": 4,
 "nbformat_minor": 2
}
